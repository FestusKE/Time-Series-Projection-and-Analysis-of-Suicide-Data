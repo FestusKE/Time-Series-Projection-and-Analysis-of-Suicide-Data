{
 "cells": [
  {
   "cell_type": "code",
   "execution_count": 26,
   "metadata": {},
   "outputs": [],
   "source": [
    "import requests\n",
    "import pandas as pd\n",
    "import matplotlib.pyplot as plt\n",
    "#import seaborn as sns\n",
    "import datetime\n",
    "import ssl\n",
    "import joblib"
   ]
  },
  {
   "cell_type": "code",
   "execution_count": 2,
   "metadata": {},
   "outputs": [
    {
     "name": "stdout",
     "output_type": "stream",
     "text": [
      "Enter Start year (2011-20xx): 2011\n",
      "Enter End year (2011-20xx): 2021\n"
     ]
    }
   ],
   "source": [
    "Start = input('Enter Start year (2011-20xx): ')\n",
    "End = input('Enter End year (2011-20xx): ')"
   ]
  },
  {
   "cell_type": "code",
   "execution_count": null,
   "metadata": {},
   "outputs": [],
   "source": []
  },
  {
   "cell_type": "code",
   "execution_count": 3,
   "metadata": {},
   "outputs": [
    {
     "name": "stdout",
     "output_type": "stream",
     "text": [
      "Enter Start year (2011-20xx): 2011\n",
      "Enter End year (2011-20xx): 2021\n"
     ]
    }
   ],
   "source": [
    "try:\n",
    "    _create_unverified_https_context = ssl._create_unverified_context\n",
    "except AttributeError:\n",
    "    pass\n",
    "else:\n",
    "    ssl._create_default_https_context = _create_unverified_https_context\n",
    "\n",
    "current_year = datetime.datetime.now().year\n",
    "base = 'https://www.americashealthrankings.org/api/v1/downloads/'\n",
    "start = input('Enter Start year (2011-20xx): ')\n",
    "end = input('Enter End year (2011-20xx): ')\n",
    "frames = []\n",
    "for year in range(int(start), int(end)+1):\n",
    "    # Data before and after 2015 is on different end points hence adding a check\n",
    "    if year >= 2015:\n",
    "        # Getting report Id from page\n",
    "        res = requests.get(f'https://www.americashealthrankings.org/explore/annual/measure/Suicide/state/ALL?edition-year={year}')\n",
    "    # Faced issues when scraping page for different years, figured out a way to get report ID\n",
    "        source_id = res.text.split(f'\"Name\":\"{year} Annual\",\"EditionId\":')[1][:4]\n",
    "        # Checking if edition ID is 2,3 or 4 digits\n",
    "        if source_id.isdecimal():\n",
    "            df = pd.read_csv(base + source_id)\n",
    "        elif source_id[:3].isdecimal():\n",
    "            df = pd.read_csv(base + source_id[:3])\n",
    "        else:\n",
    "            df = pd.read_csv(base + source_id[:2])\n",
    "    else:\n",
    "        df = pd.read_csv(base + f'report/1/{year}')\n",
    "    \n",
    "    # Filtering only suicide data\n",
    "    df['Measure Name'] = df['Measure Name'].fillna('Blank')\n",
    "    df_2 = df[df['Measure Name'].str.contains('Suicide')]\n",
    "    # Adding to dataframes list\n",
    "    frames.append(df_2)"
   ]
  },
  {
   "cell_type": "code",
   "execution_count": 4,
   "metadata": {},
   "outputs": [
    {
     "data": {
      "text/html": [
       "<div>\n",
       "<style scoped>\n",
       "    .dataframe tbody tr th:only-of-type {\n",
       "        vertical-align: middle;\n",
       "    }\n",
       "\n",
       "    .dataframe tbody tr th {\n",
       "        vertical-align: top;\n",
       "    }\n",
       "\n",
       "    .dataframe thead th {\n",
       "        text-align: right;\n",
       "    }\n",
       "</style>\n",
       "<table border=\"1\" class=\"dataframe\">\n",
       "  <thead>\n",
       "    <tr style=\"text-align: right;\">\n",
       "      <th></th>\n",
       "      <th>Edition</th>\n",
       "      <th>Measure Name</th>\n",
       "      <th>Value</th>\n",
       "      <th>State Name</th>\n",
       "    </tr>\n",
       "  </thead>\n",
       "  <tbody>\n",
       "    <tr>\n",
       "      <th>11856</th>\n",
       "      <td>2011</td>\n",
       "      <td>Suicide</td>\n",
       "      <td>14.1</td>\n",
       "      <td>Alabama</td>\n",
       "    </tr>\n",
       "    <tr>\n",
       "      <th>11857</th>\n",
       "      <td>2011</td>\n",
       "      <td>Suicide</td>\n",
       "      <td>20.4</td>\n",
       "      <td>Alaska</td>\n",
       "    </tr>\n",
       "    <tr>\n",
       "      <th>11858</th>\n",
       "      <td>2011</td>\n",
       "      <td>Suicide</td>\n",
       "      <td>17.1</td>\n",
       "      <td>Arizona</td>\n",
       "    </tr>\n",
       "    <tr>\n",
       "      <th>11859</th>\n",
       "      <td>2011</td>\n",
       "      <td>Suicide</td>\n",
       "      <td>14.7</td>\n",
       "      <td>Arkansas</td>\n",
       "    </tr>\n",
       "    <tr>\n",
       "      <th>11860</th>\n",
       "      <td>2011</td>\n",
       "      <td>Suicide</td>\n",
       "      <td>10.7</td>\n",
       "      <td>California</td>\n",
       "    </tr>\n",
       "  </tbody>\n",
       "</table>\n",
       "</div>"
      ],
      "text/plain": [
       "       Edition Measure Name  Value  State Name\n",
       "11856     2011      Suicide   14.1     Alabama\n",
       "11857     2011      Suicide   20.4      Alaska\n",
       "11858     2011      Suicide   17.1     Arizona\n",
       "11859     2011      Suicide   14.7    Arkansas\n",
       "11860     2011      Suicide   10.7  California"
      ]
     },
     "execution_count": 4,
     "metadata": {},
     "output_type": "execute_result"
    }
   ],
   "source": [
    "# Merging all yearly data into a single dataframe    \n",
    "df = pd.concat(frames)\n",
    "# selecting necessary columns only\n",
    "df = df[['Edition', 'Measure Name', 'Value', 'State Name']]\n",
    "df.head()"
   ]
  },
  {
   "cell_type": "code",
   "execution_count": 183,
   "metadata": {},
   "outputs": [
    {
     "data": {
      "image/png": "[encoded data removed]",
      "text/plain": [
       "<Figure size 720x432 with 1 Axes>"
      ]
     },
     "metadata": {
      "needs_background": "light"
     },
     "output_type": "display_data"
    }
   ],
   "source": [
    "\"\"\"Date for each parameter is contained in a single CSV file as separate rows, below we will extract data for each parameter in a separate dataframe and plot it\"\"\"\n",
    "# Extracting aggregated suicide data\n",
    "df_total = df[df['Measure Name'] == 'Suicide']\n",
    "# Grouping by year and ploting average suicide rate\n",
    "total_data = df_total.groupby('Edition')['Value'].mean()\n",
    "total_data.plot(figsize=(10,6), xlabel= 'Year', title = 'Suicides per 100,000 Population', ylabel = 'Suicides per 100,000 population')\n",
    "plt.show()"
   ]
  },
  {
   "cell_type": "code",
   "execution_count": 6,
   "metadata": {},
   "outputs": [
    {
     "data": {
      "text/plain": [
       "Edition\n",
       "2011    13.338462\n",
       "2012    14.090385\n",
       "2013    14.244231\n",
       "2014    14.725000\n",
       "2015    14.788462\n",
       "2016    15.280769\n",
       "2017    15.792308\n",
       "2018    15.905769\n",
       "2019    16.865385\n",
       "2020    16.725000\n",
       "2021    16.625000\n",
       "Name: Value, dtype: float64"
      ]
     },
     "execution_count": 6,
     "metadata": {},
     "output_type": "execute_result"
    }
   ],
   "source": [
    "total_data"
   ]
  },
  {
   "cell_type": "code",
   "execution_count": 52,
   "metadata": {},
   "outputs": [
    {
     "data": {
      "image/png": "[encoded data removed]",
      "text/plain": [
       "<Figure size 720x432 with 1 Axes>"
      ]
     },
     "metadata": {
      "needs_background": "light"
     },
     "output_type": "display_data"
    }
   ],
   "source": [
    "final_total_data.plot(figsize=(10,6), xlabel= 'Year', title = 'Suicides per 100,000 Population', ylabel = 'Suicides per 100,000 population')\n",
    "plt.savefig('./Output_Images/Suicides per 100,000 population.png')\n",
    "plt.show()"
   ]
  },
  {
   "cell_type": "code",
   "execution_count": 53,
   "metadata": {},
   "outputs": [
    {
     "data": {
      "text/plain": [
       "[<matplotlib.lines.Line2D at 0x20db331cc40>]"
      ]
     },
     "execution_count": 53,
     "metadata": {},
     "output_type": "execute_result"
    },
    {
     "data": {
      "image/png": "[encoded data removed]",
      "text/plain": [
       "<Figure size 432x288 with 1 Axes>"
      ]
     },
     "metadata": {
      "needs_background": "light"
     },
     "output_type": "display_data"
    }
   ],
   "source": [
    "plt.plot(total_data, color='blue')\n",
    "plt.plot(forecasted_values, color='red')"
   ]
  },
  {
   "cell_type": "code",
   "execution_count": null,
   "metadata": {},
   "outputs": [],
   "source": []
  },
  {
   "cell_type": "code",
   "execution_count": 7,
   "metadata": {},
   "outputs": [
    {
     "data": {
      "text/plain": [
       "pandas.core.series.Series"
      ]
     },
     "execution_count": 7,
     "metadata": {},
     "output_type": "execute_result"
    }
   ],
   "source": [
    "type(total_data)"
   ]
  },
  {
   "cell_type": "code",
   "execution_count": 27,
   "metadata": {},
   "outputs": [],
   "source": [
    "#import tensorflow as ft\n",
    "#from tensorflow import keras"
   ]
  },
  {
   "cell_type": "code",
   "execution_count": 28,
   "metadata": {},
   "outputs": [],
   "source": [
    "#model = keras.models.load_model(\"Suicides_per_100K.h5\")"
   ]
  },
  {
   "cell_type": "code",
   "execution_count": 29,
   "metadata": {},
   "outputs": [],
   "source": [
    "# load, no need to initialize the loaded model\n",
    "loaded_model = joblib.load('./models/Suicides_per_100K.joblib')"
   ]
  },
  {
   "cell_type": "code",
   "execution_count": 32,
   "metadata": {},
   "outputs": [
    {
     "data": {
      "text/plain": [
       "2022-01-18    17.881275\n",
       "2022-01-19    18.625178\n",
       "2022-01-20    17.923656\n",
       "2022-01-21    17.768084\n",
       "2022-01-22    18.142694\n",
       "Freq: D, Name: predicted_mean, dtype: float64"
      ]
     },
     "execution_count": 32,
     "metadata": {},
     "output_type": "execute_result"
    }
   ],
   "source": [
    "End = 2026\n",
    "seasons = End-2021 #Number of years to be forecasted\n",
    "forecasted = loaded_model.forecast(seasons)\n",
    "forecasted"
   ]
  },
  {
   "cell_type": "code",
   "execution_count": 10,
   "metadata": {},
   "outputs": [
    {
     "data": {
      "image/png": "[encoded data removed]",
      "text/plain": [
       "<Figure size 720x432 with 1 Axes>"
      ]
     },
     "metadata": {
      "needs_background": "light"
     },
     "output_type": "display_data"
    }
   ],
   "source": [
    "# Extracting suicide data for ages 15-24\n",
    "df_total = df[df['Measure Name'] == 'Suicide - Ages 15-24']\n",
    "total_data = df_total.groupby('Edition')['Value'].mean()\n",
    "total_data.plot(figsize=(10,6), xlabel= 'Year', title = 'Suicides Aged 15-24', ylabel = 'Suicides per 100,000 population')\n",
    "plt.show()"
   ]
  },
  {
   "cell_type": "code",
   "execution_count": null,
   "metadata": {},
   "outputs": [],
   "source": []
  },
  {
   "cell_type": "code",
   "execution_count": 11,
   "metadata": {},
   "outputs": [
    {
     "data": {
      "text/plain": [
       "Edition\n",
       "2011    12.706522\n",
       "2012    13.539583\n",
       "2013    13.386957\n",
       "2014    13.753191\n",
       "2015    14.300000\n",
       "2016    14.775000\n",
       "2017    15.976087\n",
       "2018    16.261702\n",
       "2019    18.293750\n",
       "2020    17.951020\n",
       "2021    17.759574\n",
       "Name: Value, dtype: float64"
      ]
     },
     "execution_count": 11,
     "metadata": {},
     "output_type": "execute_result"
    }
   ],
   "source": [
    "total_data"
   ]
  },
  {
   "cell_type": "code",
   "execution_count": 46,
   "metadata": {},
   "outputs": [
    {
     "data": {
      "text/plain": [
       "2022-01-18    17.881275\n",
       "2022-01-19    18.625178\n",
       "2022-01-20    17.923656\n",
       "2022-01-21    17.768084\n",
       "2022-01-22    18.142694\n",
       "Freq: D, Name: predicted_mean, dtype: float64"
      ]
     },
     "execution_count": 46,
     "metadata": {},
     "output_type": "execute_result"
    }
   ],
   "source": [
    "forecasted"
   ]
  },
  {
   "cell_type": "code",
   "execution_count": 42,
   "metadata": {},
   "outputs": [
    {
     "data": {
      "text/plain": [
       "[2022, 2023, 2024, 2025, 2026]"
      ]
     },
     "execution_count": 42,
     "metadata": {},
     "output_type": "execute_result"
    }
   ],
   "source": [
    "indices = [*range(2022, 2022+seasons)]\n",
    "indices"
   ]
  },
  {
   "cell_type": "code",
   "execution_count": 48,
   "metadata": {},
   "outputs": [
    {
     "data": {
      "text/plain": [
       "2022    17.881275\n",
       "2023    18.625178\n",
       "2024    17.923656\n",
       "2025    17.768084\n",
       "2026    18.142694\n",
       "Name: predicted_mean, dtype: float64"
      ]
     },
     "execution_count": 48,
     "metadata": {},
     "output_type": "execute_result"
    }
   ],
   "source": [
    "forecasted_values = forecasted.set_axis(indices)\n",
    "forecasted_values"
   ]
  },
  {
   "cell_type": "code",
   "execution_count": 51,
   "metadata": {},
   "outputs": [
    {
     "data": {
      "text/plain": [
       "2011    13.338462\n",
       "2012    14.090385\n",
       "2013    14.244231\n",
       "2014    14.725000\n",
       "2015    14.788462\n",
       "2016    15.280769\n",
       "2017    15.792308\n",
       "2018    15.905769\n",
       "2019    16.865385\n",
       "2020    16.725000\n",
       "2021    16.625000\n",
       "2022    17.881275\n",
       "2023    18.625178\n",
       "2024    17.923656\n",
       "2025    17.768084\n",
       "2026    18.142694\n",
       "dtype: float64"
      ]
     },
     "execution_count": 51,
     "metadata": {},
     "output_type": "execute_result"
    }
   ],
   "source": [
    "final_total_data = total_data.append(forecasted_values)\n",
    "final_total_data"
   ]
  },
  {
   "cell_type": "code",
   "execution_count": null,
   "metadata": {},
   "outputs": [],
   "source": []
  },
  {
   "cell_type": "code",
   "execution_count": 57,
   "metadata": {},
   "outputs": [
    {
     "data": {
      "text/plain": [
       "16.625"
      ]
     },
     "execution_count": 57,
     "metadata": {},
     "output_type": "execute_result"
    }
   ],
   "source": []
  },
  {
   "cell_type": "code",
   "execution_count": null,
   "metadata": {},
   "outputs": [],
   "source": []
  },
  {
   "cell_type": "code",
   "execution_count": 123,
   "metadata": {},
   "outputs": [
    {
     "data": {
      "text/html": [
       "<div>\n",
       "<style scoped>\n",
       "    .dataframe tbody tr th:only-of-type {\n",
       "        vertical-align: middle;\n",
       "    }\n",
       "\n",
       "    .dataframe tbody tr th {\n",
       "        vertical-align: top;\n",
       "    }\n",
       "\n",
       "    .dataframe thead th {\n",
       "        text-align: right;\n",
       "    }\n",
       "</style>\n",
       "<table border=\"1\" class=\"dataframe\">\n",
       "  <thead>\n",
       "    <tr style=\"text-align: right;\">\n",
       "      <th></th>\n",
       "      <th>Edition</th>\n",
       "      <th>Measure Name</th>\n",
       "      <th>Value</th>\n",
       "      <th>State Name</th>\n",
       "    </tr>\n",
       "  </thead>\n",
       "  <tbody>\n",
       "    <tr>\n",
       "      <th>12480</th>\n",
       "      <td>2011</td>\n",
       "      <td>Suicide - Female</td>\n",
       "      <td>5.3</td>\n",
       "      <td>Alabama</td>\n",
       "    </tr>\n",
       "    <tr>\n",
       "      <th>12481</th>\n",
       "      <td>2011</td>\n",
       "      <td>Suicide - Female</td>\n",
       "      <td>9.7</td>\n",
       "      <td>Alaska</td>\n",
       "    </tr>\n",
       "    <tr>\n",
       "      <th>12482</th>\n",
       "      <td>2011</td>\n",
       "      <td>Suicide - Female</td>\n",
       "      <td>8.5</td>\n",
       "      <td>Arizona</td>\n",
       "    </tr>\n",
       "    <tr>\n",
       "      <th>12483</th>\n",
       "      <td>2011</td>\n",
       "      <td>Suicide - Female</td>\n",
       "      <td>5.8</td>\n",
       "      <td>Arkansas</td>\n",
       "    </tr>\n",
       "    <tr>\n",
       "      <th>12484</th>\n",
       "      <td>2011</td>\n",
       "      <td>Suicide - Female</td>\n",
       "      <td>5.0</td>\n",
       "      <td>California</td>\n",
       "    </tr>\n",
       "    <tr>\n",
       "      <th>...</th>\n",
       "      <td>...</td>\n",
       "      <td>...</td>\n",
       "      <td>...</td>\n",
       "      <td>...</td>\n",
       "    </tr>\n",
       "    <tr>\n",
       "      <th>48046</th>\n",
       "      <td>2021</td>\n",
       "      <td>Suicide - Male</td>\n",
       "      <td>29.0</td>\n",
       "      <td>West Virginia</td>\n",
       "    </tr>\n",
       "    <tr>\n",
       "      <th>48047</th>\n",
       "      <td>2021</td>\n",
       "      <td>Suicide - Male</td>\n",
       "      <td>23.1</td>\n",
       "      <td>Wisconsin</td>\n",
       "    </tr>\n",
       "    <tr>\n",
       "      <th>48048</th>\n",
       "      <td>2021</td>\n",
       "      <td>Suicide - Male</td>\n",
       "      <td>51.3</td>\n",
       "      <td>Wyoming</td>\n",
       "    </tr>\n",
       "    <tr>\n",
       "      <th>48049</th>\n",
       "      <td>2021</td>\n",
       "      <td>Suicide - Male</td>\n",
       "      <td>23.4</td>\n",
       "      <td>United States</td>\n",
       "    </tr>\n",
       "    <tr>\n",
       "      <th>48050</th>\n",
       "      <td>2021</td>\n",
       "      <td>Suicide - Male</td>\n",
       "      <td>8.8</td>\n",
       "      <td>District of Columbia</td>\n",
       "    </tr>\n",
       "  </tbody>\n",
       "</table>\n",
       "<p>1144 rows × 4 columns</p>\n",
       "</div>"
      ],
      "text/plain": [
       "       Edition      Measure Name  Value            State Name\n",
       "12480     2011  Suicide - Female    5.3               Alabama\n",
       "12481     2011  Suicide - Female    9.7                Alaska\n",
       "12482     2011  Suicide - Female    8.5               Arizona\n",
       "12483     2011  Suicide - Female    5.8              Arkansas\n",
       "12484     2011  Suicide - Female    5.0            California\n",
       "...        ...               ...    ...                   ...\n",
       "48046     2021    Suicide - Male   29.0         West Virginia\n",
       "48047     2021    Suicide - Male   23.1             Wisconsin\n",
       "48048     2021    Suicide - Male   51.3               Wyoming\n",
       "48049     2021    Suicide - Male   23.4         United States\n",
       "48050     2021    Suicide - Male    8.8  District of Columbia\n",
       "\n",
       "[1144 rows x 4 columns]"
      ]
     },
     "execution_count": 123,
     "metadata": {},
     "output_type": "execute_result"
    }
   ],
   "source": [
    "df_gender "
   ]
  },
  {
   "cell_type": "code",
   "execution_count": 12,
   "metadata": {},
   "outputs": [
    {
     "data": {
      "image/png": "[encoded data removed]",
      "text/plain": [
       "<Figure size 432x288 with 1 Axes>"
      ]
     },
     "metadata": {
      "needs_background": "light"
     },
     "output_type": "display_data"
    }
   ],
   "source": [
    "# Extracting gender based Suicide data\n",
    "df_gender = df[(df['Measure Name'] == 'Suicide - Female') | (df['Measure Name'] == 'Suicide - Male')]\n",
    "gender_group = df_gender.groupby(['Edition', 'Measure Name'])['Value'].mean()\n",
    "#gender_group.plot(kind = 'bar')\n",
    "gender_group.to_frame().reset_index().pivot(index='Edition', columns='Measure Name', values='Value').plot(kind='bar', xlabel= 'Year', title = 'Gender based suicide rate')\n",
    "plt.show()"
   ]
  },
  {
   "cell_type": "code",
   "execution_count": 96,
   "metadata": {},
   "outputs": [],
   "source": [
    "loaded_model_male = joblib.load('./models/Suicides_gender_male.joblib')  # Loading the model\n",
    "loaded_model_female = joblib.load('./models/Suicides_gender_female.joblib')\n",
    "forecasted_male = loaded_model_male.forecast(5)  # Forecasting the given years\n",
    "forecasted_female = loaded_model_female.forecast(5)\n",
    "indices = [*range(2022, 2022 + seasons)]  # Indices used for forecasted data\n",
    "forecasted_values_male = forecasted_male.set_axis(indices)  # Using the right indices for forecasted\n",
    "forecasted_values_female = forecasted_female.set_axis(indices)"
   ]
  },
  {
   "cell_type": "code",
   "execution_count": 97,
   "metadata": {},
   "outputs": [
    {
     "data": {
      "text/html": [
       "<div>\n",
       "<style scoped>\n",
       "    .dataframe tbody tr th:only-of-type {\n",
       "        vertical-align: middle;\n",
       "    }\n",
       "\n",
       "    .dataframe tbody tr th {\n",
       "        vertical-align: top;\n",
       "    }\n",
       "\n",
       "    .dataframe thead th {\n",
       "        text-align: right;\n",
       "    }\n",
       "</style>\n",
       "<table border=\"1\" class=\"dataframe\">\n",
       "  <thead>\n",
       "    <tr style=\"text-align: right;\">\n",
       "      <th>Measure Name</th>\n",
       "      <th>Suicide - Female</th>\n",
       "      <th>Suicide - Male</th>\n",
       "    </tr>\n",
       "    <tr>\n",
       "      <th>Edition</th>\n",
       "      <th></th>\n",
       "      <th></th>\n",
       "    </tr>\n",
       "  </thead>\n",
       "  <tbody>\n",
       "    <tr>\n",
       "      <th>2011</th>\n",
       "      <td>5.530612</td>\n",
       "      <td>21.815385</td>\n",
       "    </tr>\n",
       "    <tr>\n",
       "      <th>2012</th>\n",
       "      <td>5.870833</td>\n",
       "      <td>23.026923</td>\n",
       "    </tr>\n",
       "    <tr>\n",
       "      <th>2013</th>\n",
       "      <td>6.066667</td>\n",
       "      <td>22.996154</td>\n",
       "    </tr>\n",
       "    <tr>\n",
       "      <th>2014</th>\n",
       "      <td>6.287755</td>\n",
       "      <td>23.873077</td>\n",
       "    </tr>\n",
       "    <tr>\n",
       "      <th>2015</th>\n",
       "      <td>6.354000</td>\n",
       "      <td>23.807692</td>\n",
       "    </tr>\n",
       "  </tbody>\n",
       "</table>\n",
       "</div>"
      ],
      "text/plain": [
       "Measure Name  Suicide - Female  Suicide - Male\n",
       "Edition                                       \n",
       "2011                  5.530612       21.815385\n",
       "2012                  5.870833       23.026923\n",
       "2013                  6.066667       22.996154\n",
       "2014                  6.287755       23.873077\n",
       "2015                  6.354000       23.807692"
      ]
     },
     "execution_count": 97,
     "metadata": {},
     "output_type": "execute_result"
    }
   ],
   "source": [
    "dfx = gender_group.to_frame().reset_index().pivot(index='Edition', columns='Measure Name', values='Value')\n",
    "dfx.head() # This is the dataframe for the already existing values"
   ]
  },
  {
   "cell_type": "code",
   "execution_count": 106,
   "metadata": {},
   "outputs": [],
   "source": [
    "list_male = list(forecasted_values_male.values)\n",
    "list_female = list(forecasted_values_female.values)"
   ]
  },
  {
   "cell_type": "code",
   "execution_count": 113,
   "metadata": {},
   "outputs": [],
   "source": [
    "existing_list_male = list(dfx['Suicide - Male'].values)\n",
    "existing_list_female = list(dfx['Suicide - Female'].values)"
   ]
  },
  {
   "cell_type": "code",
   "execution_count": 119,
   "metadata": {},
   "outputs": [],
   "source": [
    "final_list_male = existing_list_male+list_male\n",
    "final_list_female = existing_list_female+list_female\n",
    "new_idx = [*range(Start,End+1)]"
   ]
  },
  {
   "cell_type": "code",
   "execution_count": 180,
   "metadata": {},
   "outputs": [],
   "source": [
    "new_df = pd.DataFrame()\n",
    "new_df['Index'] = new_idx \n",
    "new_df['Suicide - Male'] = final_list_male\n",
    "new_df['Suicide - Female'] = final_list_female\n",
    "#new_df.pivot(index='Edition', columns='Measure Name')\n",
    "#new_df = new_df.set_index('index')"
   ]
  },
  {
   "cell_type": "code",
   "execution_count": 181,
   "metadata": {},
   "outputs": [
    {
     "data": {
      "text/html": [
       "<div>\n",
       "<style scoped>\n",
       "    .dataframe tbody tr th:only-of-type {\n",
       "        vertical-align: middle;\n",
       "    }\n",
       "\n",
       "    .dataframe tbody tr th {\n",
       "        vertical-align: top;\n",
       "    }\n",
       "\n",
       "    .dataframe thead th {\n",
       "        text-align: right;\n",
       "    }\n",
       "</style>\n",
       "<table border=\"1\" class=\"dataframe\">\n",
       "  <thead>\n",
       "    <tr style=\"text-align: right;\">\n",
       "      <th></th>\n",
       "      <th>Index</th>\n",
       "      <th>Suicide - Male</th>\n",
       "      <th>Suicide - Female</th>\n",
       "    </tr>\n",
       "  </thead>\n",
       "  <tbody>\n",
       "    <tr>\n",
       "      <th>0</th>\n",
       "      <td>2011</td>\n",
       "      <td>5.846429</td>\n",
       "      <td>6.345000</td>\n",
       "    </tr>\n",
       "    <tr>\n",
       "      <th>1</th>\n",
       "      <td>2012</td>\n",
       "      <td>5.870000</td>\n",
       "      <td>6.519048</td>\n",
       "    </tr>\n",
       "    <tr>\n",
       "      <th>2</th>\n",
       "      <td>2013</td>\n",
       "      <td>6.303704</td>\n",
       "      <td>6.147826</td>\n",
       "    </tr>\n",
       "    <tr>\n",
       "      <th>3</th>\n",
       "      <td>2014</td>\n",
       "      <td>6.609677</td>\n",
       "      <td>6.641667</td>\n",
       "    </tr>\n",
       "    <tr>\n",
       "      <th>4</th>\n",
       "      <td>2015</td>\n",
       "      <td>6.066667</td>\n",
       "      <td>6.715000</td>\n",
       "    </tr>\n",
       "    <tr>\n",
       "      <th>5</th>\n",
       "      <td>2016</td>\n",
       "      <td>6.161290</td>\n",
       "      <td>7.453571</td>\n",
       "    </tr>\n",
       "    <tr>\n",
       "      <th>6</th>\n",
       "      <td>2017</td>\n",
       "      <td>6.377419</td>\n",
       "      <td>7.062963</td>\n",
       "    </tr>\n",
       "    <tr>\n",
       "      <th>7</th>\n",
       "      <td>2018</td>\n",
       "      <td>7.056250</td>\n",
       "      <td>7.803448</td>\n",
       "    </tr>\n",
       "    <tr>\n",
       "      <th>8</th>\n",
       "      <td>2019</td>\n",
       "      <td>7.579412</td>\n",
       "      <td>7.851724</td>\n",
       "    </tr>\n",
       "    <tr>\n",
       "      <th>9</th>\n",
       "      <td>2020</td>\n",
       "      <td>8.036364</td>\n",
       "      <td>8.330000</td>\n",
       "    </tr>\n",
       "    <tr>\n",
       "      <th>10</th>\n",
       "      <td>2021</td>\n",
       "      <td>8.274286</td>\n",
       "      <td>8.500000</td>\n",
       "    </tr>\n",
       "    <tr>\n",
       "      <th>11</th>\n",
       "      <td>2022</td>\n",
       "      <td>8.540648</td>\n",
       "      <td>9.459468</td>\n",
       "    </tr>\n",
       "    <tr>\n",
       "      <th>12</th>\n",
       "      <td>2023</td>\n",
       "      <td>8.803082</td>\n",
       "      <td>10.075271</td>\n",
       "    </tr>\n",
       "    <tr>\n",
       "      <th>13</th>\n",
       "      <td>2024</td>\n",
       "      <td>8.718866</td>\n",
       "      <td>10.569985</td>\n",
       "    </tr>\n",
       "    <tr>\n",
       "      <th>14</th>\n",
       "      <td>2025</td>\n",
       "      <td>9.160874</td>\n",
       "      <td>9.791519</td>\n",
       "    </tr>\n",
       "    <tr>\n",
       "      <th>15</th>\n",
       "      <td>2026</td>\n",
       "      <td>9.728006</td>\n",
       "      <td>10.309737</td>\n",
       "    </tr>\n",
       "  </tbody>\n",
       "</table>\n",
       "</div>"
      ],
      "text/plain": [
       "    Index  Suicide - Male  Suicide - Female\n",
       "0    2011        5.846429          6.345000\n",
       "1    2012        5.870000          6.519048\n",
       "2    2013        6.303704          6.147826\n",
       "3    2014        6.609677          6.641667\n",
       "4    2015        6.066667          6.715000\n",
       "5    2016        6.161290          7.453571\n",
       "6    2017        6.377419          7.062963\n",
       "7    2018        7.056250          7.803448\n",
       "8    2019        7.579412          7.851724\n",
       "9    2020        8.036364          8.330000\n",
       "10   2021        8.274286          8.500000\n",
       "11   2022        8.540648          9.459468\n",
       "12   2023        8.803082         10.075271\n",
       "13   2024        8.718866         10.569985\n",
       "14   2025        9.160874          9.791519\n",
       "15   2026        9.728006         10.309737"
      ]
     },
     "execution_count": 181,
     "metadata": {},
     "output_type": "execute_result"
    }
   ],
   "source": [
    "new_df"
   ]
  },
  {
   "cell_type": "code",
   "execution_count": 182,
   "metadata": {},
   "outputs": [
    {
     "data": {
      "image/png": "[encoded data removed]",
      "text/plain": [
       "<Figure size 432x288 with 1 Axes>"
      ]
     },
     "metadata": {
      "needs_background": "light"
     },
     "output_type": "display_data"
    }
   ],
   "source": [
    "# plotting graph\n",
    "new_df.plot(x=\"Index\", y=[\"Suicide - Male\", \"Suicide - Female\"], kind=\"bar\")\n",
    "plt.savefig('./Output_Images/Gender based suicide rate.png')"
   ]
  },
  {
   "cell_type": "code",
   "execution_count": null,
   "metadata": {},
   "outputs": [],
   "source": []
  },
  {
   "cell_type": "code",
   "execution_count": null,
   "metadata": {},
   "outputs": [],
   "source": []
  },
  {
   "cell_type": "code",
   "execution_count": null,
   "metadata": {},
   "outputs": [],
   "source": []
  },
  {
   "cell_type": "code",
   "execution_count": 141,
   "metadata": {},
   "outputs": [
    {
     "data": {
      "image/png": "[encoded data removed]",
      "text/plain": [
       "<Figure size 432x288 with 1 Axes>"
      ]
     },
     "metadata": {
      "needs_background": "light"
     },
     "output_type": "display_data"
    }
   ],
   "source": [
    "# Extracting racial suicide data\n",
    "df_race = df[(df['Measure Name'] == 'Suicide - American Indian/Alaska Native') | (df['Measure Name'] == 'Suicide - Asian/Pacific Islander') | (df['Measure Name'] == 'Suicide - Black') | (df['Measure Name'] == 'Suicide - Hispanic')]\n",
    "race_group = df_race.groupby(['Edition', 'Measure Name'])['Value'].mean()\n",
    "#race_group.to_frame().reset_index().pivot(index='Edition', columns='Measure Name', values='Value').plot(kind='bar', xlabel= 'Year', title = 'Race based suicide rate')\n",
    "#plt.show()"
   ]
  },
  {
   "cell_type": "code",
   "execution_count": 132,
   "metadata": {},
   "outputs": [],
   "source": [
    "loaded_model_AmericanIndianAlaska_Native = joblib.load('./models/Suicides_race_American Indian_Alaska Native.joblib')  # Loading the model\n",
    "loaded_model_AsianPacific_Islander = joblib.load('./models/Suicides_race_Asian_Pacific Islander.joblib')\n",
    "loaded_model_Black = joblib.load('./models/Suicides_race_black.joblib')\n",
    "loaded_model_Hispanic = joblib.load('./models/Suicides_race_Hispanic.joblib')\n",
    "\n",
    "forecasted_AmericanIndianAlaska_Native = loaded_model_AmericanIndianAlaska_Native.forecast(5)  # Forecasting the given years\n",
    "forecasted_AsianPacific_Islander = loaded_model_AsianPacific_Islander.forecast(5)\n",
    "forecasted_Black = loaded_model_Black.forecast(5)  # Forecasting the given years\n",
    "forecasted_Hispanic = loaded_model_Hispanic.forecast(5)\n",
    "\n",
    "indices = [*range(2022, 2022 + seasons)]  # Indices used for forecasted data\n",
    "forecasted_values_AmericanIndianAlaska_Native = forecasted_AmericanIndianAlaska_Native.set_axis(indices)  # Using the right indices for forecasted\n",
    "forecasted_values_AsianPacific_Islander = forecasted_AsianPacific_Islander.set_axis(indices)\n",
    "forecasted_values_Black = forecasted_Black.set_axis(indices)\n",
    "forecasted_values_Hispanic = forecasted_Hispanic.set_axis(indices)"
   ]
  },
  {
   "cell_type": "code",
   "execution_count": 134,
   "metadata": {},
   "outputs": [
    {
     "data": {
      "text/html": [
       "<div>\n",
       "<style scoped>\n",
       "    .dataframe tbody tr th:only-of-type {\n",
       "        vertical-align: middle;\n",
       "    }\n",
       "\n",
       "    .dataframe tbody tr th {\n",
       "        vertical-align: top;\n",
       "    }\n",
       "\n",
       "    .dataframe thead th {\n",
       "        text-align: right;\n",
       "    }\n",
       "</style>\n",
       "<table border=\"1\" class=\"dataframe\">\n",
       "  <thead>\n",
       "    <tr style=\"text-align: right;\">\n",
       "      <th>Measure Name</th>\n",
       "      <th>Suicide - American Indian/Alaska Native</th>\n",
       "      <th>Suicide - Asian/Pacific Islander</th>\n",
       "      <th>Suicide - Black</th>\n",
       "      <th>Suicide - Hispanic</th>\n",
       "    </tr>\n",
       "    <tr>\n",
       "      <th>Edition</th>\n",
       "      <th></th>\n",
       "      <th></th>\n",
       "      <th></th>\n",
       "      <th></th>\n",
       "    </tr>\n",
       "  </thead>\n",
       "  <tbody>\n",
       "    <tr>\n",
       "      <th>2011</th>\n",
       "      <td>24.087500</td>\n",
       "      <td>6.309091</td>\n",
       "      <td>5.846429</td>\n",
       "      <td>6.345000</td>\n",
       "    </tr>\n",
       "    <tr>\n",
       "      <th>2012</th>\n",
       "      <td>23.322222</td>\n",
       "      <td>7.846667</td>\n",
       "      <td>5.870000</td>\n",
       "      <td>6.519048</td>\n",
       "    </tr>\n",
       "    <tr>\n",
       "      <th>2013</th>\n",
       "      <td>21.712500</td>\n",
       "      <td>6.406667</td>\n",
       "      <td>6.303704</td>\n",
       "      <td>6.147826</td>\n",
       "    </tr>\n",
       "    <tr>\n",
       "      <th>2014</th>\n",
       "      <td>23.637500</td>\n",
       "      <td>6.912500</td>\n",
       "      <td>6.609677</td>\n",
       "      <td>6.641667</td>\n",
       "    </tr>\n",
       "    <tr>\n",
       "      <th>2015</th>\n",
       "      <td>26.620000</td>\n",
       "      <td>6.213333</td>\n",
       "      <td>6.066667</td>\n",
       "      <td>6.715000</td>\n",
       "    </tr>\n",
       "  </tbody>\n",
       "</table>\n",
       "</div>"
      ],
      "text/plain": [
       "Measure Name  Suicide - American Indian/Alaska Native  \\\n",
       "Edition                                                 \n",
       "2011                                        24.087500   \n",
       "2012                                        23.322222   \n",
       "2013                                        21.712500   \n",
       "2014                                        23.637500   \n",
       "2015                                        26.620000   \n",
       "\n",
       "Measure Name  Suicide - Asian/Pacific Islander  Suicide - Black  \\\n",
       "Edition                                                           \n",
       "2011                                  6.309091         5.846429   \n",
       "2012                                  7.846667         5.870000   \n",
       "2013                                  6.406667         6.303704   \n",
       "2014                                  6.912500         6.609677   \n",
       "2015                                  6.213333         6.066667   \n",
       "\n",
       "Measure Name  Suicide - Hispanic  \n",
       "Edition                           \n",
       "2011                    6.345000  \n",
       "2012                    6.519048  \n",
       "2013                    6.147826  \n",
       "2014                    6.641667  \n",
       "2015                    6.715000  "
      ]
     },
     "execution_count": 134,
     "metadata": {},
     "output_type": "execute_result"
    }
   ],
   "source": [
    "dfx = race_group.to_frame().reset_index().pivot(index='Edition', columns='Measure Name', values='Value')\n",
    "dfx.head() # This is the dataframe for the already existing values"
   ]
  },
  {
   "cell_type": "code",
   "execution_count": 135,
   "metadata": {},
   "outputs": [],
   "source": [
    "#Making a list for the forecasted values\n",
    "list_AmericanIndianAlaska_Native = list(forecasted_values_AmericanIndianAlaska_Native.values)\n",
    "list_AsianPacific_Islander = list(forecasted_values_AsianPacific_Islander.values)\n",
    "list_Black = list(forecasted_values_Black.values)\n",
    "list_Hispanic = list(forecasted_values_Hispanic.values)"
   ]
  },
  {
   "cell_type": "code",
   "execution_count": 136,
   "metadata": {},
   "outputs": [],
   "source": [
    "#Making a list for the already existing values\n",
    "existing_list_AmericanIndianAlaska_Native = list(dfx['Suicide - American Indian/Alaska Native'].values)\n",
    "existing_list_AsianPacific_Islander = list(dfx['Suicide - Asian/Pacific Islander'].values)\n",
    "existing_list_Black = list(dfx['Suicide - Black'].values)\n",
    "existing_list_Hispanic = list(dfx['Suicide - Hispanic'].values)"
   ]
  },
  {
   "cell_type": "code",
   "execution_count": 138,
   "metadata": {},
   "outputs": [],
   "source": [
    "#Making a list containing both existing and predicted values\n",
    "final_list_AmericanIndianAlaska_Native = existing_list_AmericanIndianAlaska_Native+list_AmericanIndianAlaska_Native\n",
    "final_list_AsianPacific_Islander = existing_list_AsianPacific_Islander+list_AsianPacific_Islander\n",
    "final_list_Black = existing_list_Black+list_Black\n",
    "final_list_Hispanic = existing_list_Hispanic+list_Hispanic\n",
    "\n",
    "new_idx = [*range(Start,End+1)]"
   ]
  },
  {
   "cell_type": "code",
   "execution_count": 139,
   "metadata": {},
   "outputs": [],
   "source": [
    "new_df = pd.DataFrame()\n",
    "new_df['Index'] = new_idx \n",
    "new_df['Suicide - American Indian/Alaska Native'] = final_list_AmericanIndianAlaska_Native\n",
    "new_df['Suicide - Asian/Pacific Islander'] = final_list_AsianPacific_Islander\n",
    "new_df['Suicide - Black'] = final_list_Black\n",
    "new_df['Suicide - Hispanic'] = final_list_Hispanic"
   ]
  },
  {
   "cell_type": "code",
   "execution_count": 178,
   "metadata": {},
   "outputs": [
    {
     "data": {
      "image/png": "[encoded data removed]",
      "text/plain": [
       "<Figure size 432x288 with 1 Axes>"
      ]
     },
     "metadata": {
      "needs_background": "light"
     },
     "output_type": "display_data"
    }
   ],
   "source": [
    "# plotting graph\n",
    "new_df.plot(x=\"Index\", y=['Suicide - American Indian/Alaska Native', \"Suicide - Asian/Pacific Islander\",\n",
    "                         'Suicide - Black','Suicide - Hispanic'], kind=\"bar\",\n",
    "            xlabel='Year',\n",
    "            title='Race based suicide rate')\n",
    "plt.savefig('./Output_Images/Race based suicide rate.png')"
   ]
  },
  {
   "cell_type": "code",
   "execution_count": null,
   "metadata": {},
   "outputs": [],
   "source": []
  },
  {
   "cell_type": "code",
   "execution_count": null,
   "metadata": {},
   "outputs": [],
   "source": []
  },
  {
   "cell_type": "code",
   "execution_count": 143,
   "metadata": {},
   "outputs": [
    {
     "data": {
      "image/png": "[encoded data removed]",
      "text/plain": [
       "<Figure size 576x360 with 1 Axes>"
      ]
     },
     "metadata": {
      "needs_background": "light"
     },
     "output_type": "display_data"
    }
   ],
   "source": [
    "# Extracting Age based suicide data\n",
    "df_age = df[(df['Measure Name'] == 'Suicide - Ages 15-24') | (df['Measure Name'] == 'Suicide - Ages 25-34') | (df['Measure Name'] == 'Suicide - Ages 35-44') | (df['Measure Name'] == 'Suicide - Ages 45-54') | (df['Measure Name'] == 'Suicide - Ages 55-64') | (df['Measure Name'] == 'Suicide - Ages 65-74') | (df['Measure Name'] == 'Suicide - Ages 75-84') | (df['Measure Name'] == 'Suicide - Ages 85+')]\n",
    "age_group = df_age.groupby(['Measure Name'])['Value'].mean()\n",
    "age_group.plot(kind ='bar', figsize=(8,5), xlabel= 'Year', title = 'Suicides by age group', ylabel = 'Suicides per 100,000 population')\n",
    "plt.show()"
   ]
  },
  {
   "cell_type": "code",
   "execution_count": null,
   "metadata": {},
   "outputs": [],
   "source": []
  },
  {
   "cell_type": "code",
   "execution_count": 150,
   "metadata": {},
   "outputs": [
    {
     "data": {
      "text/plain": [
       "Measure Name\n",
       "Suicide - Ages 15-24    15.355491\n",
       "Suicide - Ages 25-34    19.117202\n",
       "Suicide - Ages 35-44    20.395104\n",
       "Suicide - Ages 45-54    22.768535\n",
       "Suicide - Ages 55-64    20.153484\n",
       "Suicide - Ages 65-74    16.155432\n",
       "Suicide - Ages 75-84    18.978173\n",
       "Suicide - Ages 85+      21.461321\n",
       "Name: Value, dtype: float64"
      ]
     },
     "execution_count": 150,
     "metadata": {},
     "output_type": "execute_result"
    }
   ],
   "source": [
    "age_group"
   ]
  },
  {
   "cell_type": "code",
   "execution_count": 167,
   "metadata": {},
   "outputs": [],
   "source": [
    "#Obtaining the mean values for existing data\n",
    "Existing_15_24 = age_group.iloc[0]\n",
    "Existing_25_34 = age_group.iloc[1]\n",
    "Existing_35_44 = age_group.iloc[2]\n",
    "Existing_45_54 = age_group.iloc[3]\n",
    "Existing_55_64 = age_group.iloc[4]\n",
    "Existing_65_64 = age_group.iloc[5]\n",
    "Existing_75_84 = age_group.iloc[6]\n",
    "Existing_85_plus = age_group.iloc[7]"
   ]
  },
  {
   "cell_type": "code",
   "execution_count": 154,
   "metadata": {},
   "outputs": [],
   "source": [
    "#Loading models for predicting each age set\n",
    "model_15_24 = joblib.load('./models/Suicides_age_groupSuicide - Ages 15-24.joblib')\n",
    "model_25_34 = joblib.load('./models/Suicides_age_groupSuicide - Ages 25-34.joblib')\n",
    "model_35_44 = joblib.load('./models/Suicides_age_groupSuicide - Ages 35-44.joblib')\n",
    "model_45_54 = joblib.load('./models/Suicides_age_groupSuicide - Ages 45-54.joblib')\n",
    "model_55_64 = joblib.load('./models/Suicides_age_groupSuicide - Ages 55-64.joblib')\n",
    "model_65_74 = joblib.load('./models/Suicides_age_groupSuicide - Ages 65-74.joblib')\n",
    "model_75_84 = joblib.load('./models/Suicides_age_groupSuicide - Ages 75-84.joblib')\n",
    "model_85_plus = joblib.load('./models/Suicides_age_groupSuicide - Ages 85+.joblib')"
   ]
  },
  {
   "cell_type": "code",
   "execution_count": 168,
   "metadata": {},
   "outputs": [],
   "source": [
    "#Getting the predicted values for each age set\n",
    "predicted_15_24 = model_15_24.forecast(5)\n",
    "predicted_25_34 = model_25_34.forecast(5)\n",
    "predicted_35_44 = model_35_44.forecast(5)\n",
    "predicted_45_54 = model_45_54.forecast(5)\n",
    "predicted_55_64 = model_55_64.forecast(5)\n",
    "predicted_65_64 = model_65_74.forecast(5)\n",
    "predicted_75_84 = model_75_84.forecast(5)\n",
    "predicted_85_plus = model_85_plus.forecast(5)"
   ]
  },
  {
   "cell_type": "code",
   "execution_count": 169,
   "metadata": {},
   "outputs": [],
   "source": [
    "# Getting the average between initial and predicted values\n",
    "Final_15_24 = (predicted_15_24.mean()+Existing_15_24)/2\n",
    "Final_25_34 = (predicted_25_34.mean()+Existing_25_34)/2\n",
    "Final_35_44 = (predicted_35_44.mean()+Existing_35_44)/2\n",
    "Final_45_54 = (predicted_45_54.mean()+Existing_45_54)/2\n",
    "Final_55_64 = (predicted_55_64.mean()+Existing_55_64)/2\n",
    "Final_65_64 = (predicted_65_64.mean()+Existing_65_64)/2\n",
    "Final_75_84 = (predicted_75_84.mean()+Existing_75_84)/2\n",
    "Final_85_plus = (predicted_85_plus.mean()+Existing_85_plus)/2"
   ]
  },
  {
   "cell_type": "code",
   "execution_count": null,
   "metadata": {},
   "outputs": [],
   "source": []
  },
  {
   "cell_type": "code",
   "execution_count": 177,
   "metadata": {},
   "outputs": [
    {
     "data": {
      "image/png": "[encoded data removed]",
      "text/plain": [
       "<Figure size 720x360 with 1 Axes>"
      ]
     },
     "metadata": {
      "needs_background": "light"
     },
     "output_type": "display_data"
    }
   ],
   "source": [
    "#Plotting\n",
    "values = [Final_15_24,Final_25_34,Final_35_44,Final_45_54,Final_55_64,Final_65_64,Final_75_84,Final_85_plus]\n",
    "labels = ['Suicide - Ages 15-24','Suicide - Ages 25-34','Suicide - Ages 35-44','Suicide - Ages 45-54',\n",
    "                 'Suicide - Ages 55-64','Suicide - Ages 65-74','Suicide - Ages 75-84','Suicide - Ages 85+']\n",
    "fig = plt.figure(figsize = (10, 5))\n",
    " \n",
    "y_pos = range(len(labels))\n",
    "plt.bar(y_pos, values)\n",
    "plt.xticks(y_pos, labels, rotation=90)\n",
    " \n",
    "plt.xlabel(\"Years\")\n",
    "plt.ylabel(\"Suicides per 100,000 population\")\n",
    "plt.title(\"Suicides by age group\")\n",
    "plt.savefig('./Output_Images/Suicides by age group.png')\n",
    "plt.show()"
   ]
  },
  {
   "cell_type": "code",
   "execution_count": null,
   "metadata": {},
   "outputs": [],
   "source": []
  },
  {
   "cell_type": "code",
   "execution_count": null,
   "metadata": {},
   "outputs": [],
   "source": []
  },
  {
   "cell_type": "code",
   "execution_count": null,
   "metadata": {},
   "outputs": [],
   "source": []
  },
  {
   "cell_type": "code",
   "execution_count": 185,
   "metadata": {},
   "outputs": [
    {
     "name": "stdout",
     "output_type": "stream",
     "text": [
      "Enter Start year (2011-20xx): 2022\n",
      "Enter End year (2011-20xx): 2025\n"
     ]
    },
    {
     "ename": "ValueError",
     "evalue": "No objects to concatenate",
     "output_type": "error",
     "traceback": [
      "\u001b[1;31m---------------------------------------------------------------------------\u001b[0m",
      "\u001b[1;31mValueError\u001b[0m                                Traceback (most recent call last)",
      "Input \u001b[1;32mIn [185]\u001b[0m, in \u001b[0;36m<cell line: 11>\u001b[1;34m()\u001b[0m\n\u001b[0;32m    133\u001b[0m     frames\u001b[38;5;241m.\u001b[39mappend(df_2)\n\u001b[0;32m    134\u001b[0m \u001b[38;5;66;03m# Merging all yearly data into a single dataframe\u001b[39;00m\n\u001b[1;32m--> 135\u001b[0m df \u001b[38;5;241m=\u001b[39m \u001b[43mpd\u001b[49m\u001b[38;5;241;43m.\u001b[39;49m\u001b[43mconcat\u001b[49m\u001b[43m(\u001b[49m\u001b[43mframes\u001b[49m\u001b[43m)\u001b[49m\n\u001b[0;32m    136\u001b[0m \u001b[38;5;66;03m# selecting necessary columns only\u001b[39;00m\n\u001b[0;32m    137\u001b[0m df \u001b[38;5;241m=\u001b[39m df[[\u001b[38;5;124m'\u001b[39m\u001b[38;5;124mEdition\u001b[39m\u001b[38;5;124m'\u001b[39m, \u001b[38;5;124m'\u001b[39m\u001b[38;5;124mMeasure Name\u001b[39m\u001b[38;5;124m'\u001b[39m, \u001b[38;5;124m'\u001b[39m\u001b[38;5;124mValue\u001b[39m\u001b[38;5;124m'\u001b[39m, \u001b[38;5;124m'\u001b[39m\u001b[38;5;124mState Name\u001b[39m\u001b[38;5;124m'\u001b[39m]]\n",
      "File \u001b[1;32mC:\\ProgramData\\Anaconda3\\envs\\tensorflow\\lib\\site-packages\\pandas\\util\\_decorators.py:311\u001b[0m, in \u001b[0;36mdeprecate_nonkeyword_arguments.<locals>.decorate.<locals>.wrapper\u001b[1;34m(*args, **kwargs)\u001b[0m\n\u001b[0;32m    305\u001b[0m \u001b[38;5;28;01mif\u001b[39;00m \u001b[38;5;28mlen\u001b[39m(args) \u001b[38;5;241m>\u001b[39m num_allow_args:\n\u001b[0;32m    306\u001b[0m     warnings\u001b[38;5;241m.\u001b[39mwarn(\n\u001b[0;32m    307\u001b[0m         msg\u001b[38;5;241m.\u001b[39mformat(arguments\u001b[38;5;241m=\u001b[39marguments),\n\u001b[0;32m    308\u001b[0m         \u001b[38;5;167;01mFutureWarning\u001b[39;00m,\n\u001b[0;32m    309\u001b[0m         stacklevel\u001b[38;5;241m=\u001b[39mstacklevel,\n\u001b[0;32m    310\u001b[0m     )\n\u001b[1;32m--> 311\u001b[0m \u001b[38;5;28;01mreturn\u001b[39;00m \u001b[43mfunc\u001b[49m\u001b[43m(\u001b[49m\u001b[38;5;241;43m*\u001b[39;49m\u001b[43margs\u001b[49m\u001b[43m,\u001b[49m\u001b[43m \u001b[49m\u001b[38;5;241;43m*\u001b[39;49m\u001b[38;5;241;43m*\u001b[39;49m\u001b[43mkwargs\u001b[49m\u001b[43m)\u001b[49m\n",
      "File \u001b[1;32mC:\\ProgramData\\Anaconda3\\envs\\tensorflow\\lib\\site-packages\\pandas\\core\\reshape\\concat.py:294\u001b[0m, in \u001b[0;36mconcat\u001b[1;34m(objs, axis, join, ignore_index, keys, levels, names, verify_integrity, sort, copy)\u001b[0m\n\u001b[0;32m     90\u001b[0m \u001b[38;5;129m@deprecate_nonkeyword_arguments\u001b[39m(version\u001b[38;5;241m=\u001b[39m\u001b[38;5;28;01mNone\u001b[39;00m, allowed_args\u001b[38;5;241m=\u001b[39m[\u001b[38;5;124m\"\u001b[39m\u001b[38;5;124mobjs\u001b[39m\u001b[38;5;124m\"\u001b[39m])\n\u001b[0;32m     91\u001b[0m \u001b[38;5;28;01mdef\u001b[39;00m \u001b[38;5;21mconcat\u001b[39m(\n\u001b[0;32m     92\u001b[0m     objs: Iterable[NDFrame] \u001b[38;5;241m|\u001b[39m Mapping[Hashable, NDFrame],\n\u001b[1;32m   (...)\u001b[0m\n\u001b[0;32m    101\u001b[0m     copy: \u001b[38;5;28mbool\u001b[39m \u001b[38;5;241m=\u001b[39m \u001b[38;5;28;01mTrue\u001b[39;00m,\n\u001b[0;32m    102\u001b[0m ) \u001b[38;5;241m-\u001b[39m\u001b[38;5;241m>\u001b[39m FrameOrSeriesUnion:\n\u001b[0;32m    103\u001b[0m     \u001b[38;5;124;03m\"\"\"\u001b[39;00m\n\u001b[0;32m    104\u001b[0m \u001b[38;5;124;03m    Concatenate pandas objects along a particular axis with optional set logic\u001b[39;00m\n\u001b[0;32m    105\u001b[0m \u001b[38;5;124;03m    along the other axes.\u001b[39;00m\n\u001b[1;32m   (...)\u001b[0m\n\u001b[0;32m    292\u001b[0m \u001b[38;5;124;03m    ValueError: Indexes have overlapping values: ['a']\u001b[39;00m\n\u001b[0;32m    293\u001b[0m \u001b[38;5;124;03m    \"\"\"\u001b[39;00m\n\u001b[1;32m--> 294\u001b[0m     op \u001b[38;5;241m=\u001b[39m \u001b[43m_Concatenator\u001b[49m\u001b[43m(\u001b[49m\n\u001b[0;32m    295\u001b[0m \u001b[43m        \u001b[49m\u001b[43mobjs\u001b[49m\u001b[43m,\u001b[49m\n\u001b[0;32m    296\u001b[0m \u001b[43m        \u001b[49m\u001b[43maxis\u001b[49m\u001b[38;5;241;43m=\u001b[39;49m\u001b[43maxis\u001b[49m\u001b[43m,\u001b[49m\n\u001b[0;32m    297\u001b[0m \u001b[43m        \u001b[49m\u001b[43mignore_index\u001b[49m\u001b[38;5;241;43m=\u001b[39;49m\u001b[43mignore_index\u001b[49m\u001b[43m,\u001b[49m\n\u001b[0;32m    298\u001b[0m \u001b[43m        \u001b[49m\u001b[43mjoin\u001b[49m\u001b[38;5;241;43m=\u001b[39;49m\u001b[43mjoin\u001b[49m\u001b[43m,\u001b[49m\n\u001b[0;32m    299\u001b[0m \u001b[43m        \u001b[49m\u001b[43mkeys\u001b[49m\u001b[38;5;241;43m=\u001b[39;49m\u001b[43mkeys\u001b[49m\u001b[43m,\u001b[49m\n\u001b[0;32m    300\u001b[0m \u001b[43m        \u001b[49m\u001b[43mlevels\u001b[49m\u001b[38;5;241;43m=\u001b[39;49m\u001b[43mlevels\u001b[49m\u001b[43m,\u001b[49m\n\u001b[0;32m    301\u001b[0m \u001b[43m        \u001b[49m\u001b[43mnames\u001b[49m\u001b[38;5;241;43m=\u001b[39;49m\u001b[43mnames\u001b[49m\u001b[43m,\u001b[49m\n\u001b[0;32m    302\u001b[0m \u001b[43m        \u001b[49m\u001b[43mverify_integrity\u001b[49m\u001b[38;5;241;43m=\u001b[39;49m\u001b[43mverify_integrity\u001b[49m\u001b[43m,\u001b[49m\n\u001b[0;32m    303\u001b[0m \u001b[43m        \u001b[49m\u001b[43mcopy\u001b[49m\u001b[38;5;241;43m=\u001b[39;49m\u001b[43mcopy\u001b[49m\u001b[43m,\u001b[49m\n\u001b[0;32m    304\u001b[0m \u001b[43m        \u001b[49m\u001b[43msort\u001b[49m\u001b[38;5;241;43m=\u001b[39;49m\u001b[43msort\u001b[49m\u001b[43m,\u001b[49m\n\u001b[0;32m    305\u001b[0m \u001b[43m    \u001b[49m\u001b[43m)\u001b[49m\n\u001b[0;32m    307\u001b[0m     \u001b[38;5;28;01mreturn\u001b[39;00m op\u001b[38;5;241m.\u001b[39mget_result()\n",
      "File \u001b[1;32mC:\\ProgramData\\Anaconda3\\envs\\tensorflow\\lib\\site-packages\\pandas\\core\\reshape\\concat.py:351\u001b[0m, in \u001b[0;36m_Concatenator.__init__\u001b[1;34m(self, objs, axis, join, keys, levels, names, ignore_index, verify_integrity, copy, sort)\u001b[0m\n\u001b[0;32m    348\u001b[0m     objs \u001b[38;5;241m=\u001b[39m \u001b[38;5;28mlist\u001b[39m(objs)\n\u001b[0;32m    350\u001b[0m \u001b[38;5;28;01mif\u001b[39;00m \u001b[38;5;28mlen\u001b[39m(objs) \u001b[38;5;241m==\u001b[39m \u001b[38;5;241m0\u001b[39m:\n\u001b[1;32m--> 351\u001b[0m     \u001b[38;5;28;01mraise\u001b[39;00m \u001b[38;5;167;01mValueError\u001b[39;00m(\u001b[38;5;124m\"\u001b[39m\u001b[38;5;124mNo objects to concatenate\u001b[39m\u001b[38;5;124m\"\u001b[39m)\n\u001b[0;32m    353\u001b[0m \u001b[38;5;28;01mif\u001b[39;00m keys \u001b[38;5;129;01mis\u001b[39;00m \u001b[38;5;28;01mNone\u001b[39;00m:\n\u001b[0;32m    354\u001b[0m     objs \u001b[38;5;241m=\u001b[39m \u001b[38;5;28mlist\u001b[39m(com\u001b[38;5;241m.\u001b[39mnot_none(\u001b[38;5;241m*\u001b[39mobjs))\n",
      "\u001b[1;31mValueError\u001b[0m: No objects to concatenate"
     ]
    }
   ],
   "source": [
    "import requests\n",
    "import pandas as pd\n",
    "import matplotlib.pyplot as plt\n",
    "# import seaborn as sns\n",
    "import datetime\n",
    "import ssl\n",
    "import joblib\n",
    "\n",
    "Start = int(input('Enter Start year (2011-20xx): '))\n",
    "End = int(input('Enter End year (2011-20xx): '))\n",
    "if End <= 2021:  # We only have data for up to 2021\n",
    "    try:\n",
    "        _create_unverified_https_context = ssl._create_unverified_context\n",
    "    except AttributeError:\n",
    "        pass\n",
    "    else:\n",
    "        ssl._create_default_https_context = _create_unverified_https_context\n",
    "    current_year = datetime.datetime.now().year\n",
    "    base = 'https://www.americashealthrankings.org/api/v1/downloads/'\n",
    "    start = Start  # input('Enter Start year (2011-20xx): ')\n",
    "    end = End  # input('Enter End year (2011-20xx): ')\n",
    "    frames = []\n",
    "    for year in range(int(start), int(end) + 1):\n",
    "        # Data before and after 2015 is on different end points hence adding a check\n",
    "        if year >= 2015:\n",
    "            # Getting report Id from page\n",
    "            res = requests.get(\n",
    "                f'https://www.americashealthrankings.org/explore/annual/measure/Suicide/state/ALL?edition-year={year}')\n",
    "            # Faced issues when scraping page for different years, figured out a way to get report ID\n",
    "            source_id = res.text.split(f'\"Name\":\"{year} Annual\",\"EditionId\":')[1][:4]\n",
    "            # Checking if edition ID is 2,3 or 4 digits\n",
    "            if source_id.isdecimal():\n",
    "                df = pd.read_csv(base + source_id)\n",
    "            elif source_id[:3].isdecimal():\n",
    "                df = pd.read_csv(base + source_id[:3])\n",
    "            else:\n",
    "                df = pd.read_csv(base + source_id[:2])\n",
    "        else:\n",
    "            df = pd.read_csv(base + f'report/1/{year}')\n",
    "        # Filtering only suicide data\n",
    "        df['Measure Name'] = df['Measure Name'].fillna('Blank')\n",
    "        df_2 = df[df['Measure Name'].str.contains('Suicide')]\n",
    "        # Adding to dataframes list\n",
    "        frames.append(df_2)\n",
    "    # Merging all yearly data into a single dataframe\n",
    "    df = pd.concat(frames)\n",
    "    # selecting necessary columns only\n",
    "    df = df[['Edition', 'Measure Name', 'Value', 'State Name']]\n",
    "\n",
    "    \"\"\"Date for each parameter is contained in a single CSV file as separate rows, below we will extract data for each parameter in a separate dataframe and plot it\"\"\"\n",
    "    # Extracting aggregated suicide data\n",
    "    df_total = df[df['Measure Name'] == 'Suicide']\n",
    "    # Grouping by year and ploting average suicide rate\n",
    "    total_data = df_total.groupby('Edition')['Value'].mean()\n",
    "    total_data.plot(figsize=(10, 6), xlabel='Year', title='Suicides per 100,000 Population',\n",
    "                    ylabel='Suicides per 100,000 population')\n",
    "    plt.savefig('./Output_Images/Suicides per 100,000 population.png')\n",
    "    plt.show()\n",
    "    # Extracting suicide data for ages 15-24\n",
    "    df_total = df[df['Measure Name'] == 'Suicide - Ages 15-24']\n",
    "    total_data = df_total.groupby('Edition')['Value'].mean()\n",
    "    total_data.plot(figsize=(10, 6), xlabel='Year', title='Suicides Aged 15-24',\n",
    "                    ylabel='Suicides per 100,000 population')\n",
    "    plt.savefig('./Output_Images/Suicides aged 15-24.png')\n",
    "    plt.show()\n",
    "\n",
    "    # Extracting gender based Suicide data\n",
    "    df_gender = df[(df['Measure Name'] == 'Suicide - Female') | (df['Measure Name'] == 'Suicide - Male')]\n",
    "    gender_group = df_gender.groupby(['Edition', 'Measure Name'])['Value'].mean()\n",
    "    # gender_group.plot(kind = 'bar')\n",
    "    gender_group.to_frame().reset_index().pivot(index='Edition', columns='Measure Name', values='Value').plot(\n",
    "        kind='bar',\n",
    "        xlabel='Year',\n",
    "        title='Gender based suicide rate')\n",
    "    plt.savefig('./Output_Images/Suicides by gender.png')\n",
    "    plt.show()\n",
    "\n",
    "    # Extracting racial suicide data\n",
    "    df_race = df[(df['Measure Name'] == 'Suicide - American Indian/Alaska Native') | (\n",
    "            df['Measure Name'] == 'Suicide - Asian/Pacific Islander') | (df['Measure Name'] == 'Suicide - Black') | (\n",
    "                         df['Measure Name'] == 'Suicide - Hispanic')]\n",
    "    race_group = df_race.groupby(['Edition', 'Measure Name'])['Value'].mean()\n",
    "    race_group.to_frame().reset_index().pivot(index='Edition', columns='Measure Name', values='Value').plot(kind='bar',\n",
    "                                                                                                            xlabel='Year',\n",
    "                                                                                                            title='Race based suicide rate')\n",
    "    plt.savefig('./Output_Images/Suicides by race.png')\n",
    "    plt.show()\n",
    "\n",
    "    # Extracting Age based suicide data\n",
    "    df_age = df[(df['Measure Name'] == 'Suicide - Ages 15-24') | (df['Measure Name'] == 'Suicide - Ages 25-34') | (\n",
    "            df['Measure Name'] == 'Suicide - Ages 35-44') | (df['Measure Name'] == 'Suicide - Ages 45-54') | (\n",
    "                        df['Measure Name'] == 'Suicide - Ages 55-64') | (\n",
    "                        df['Measure Name'] == 'Suicide - Ages 65-74') | (\n",
    "                        df['Measure Name'] == 'Suicide - Ages 75-84') | (df['Measure Name'] == 'Suicide - Ages 85+')]\n",
    "    age_group = df_age.groupby(['Measure Name'])['Value'].mean()\n",
    "    age_group.plot(kind='bar', figsize=(8, 5), xlabel='Year', title='Suicides by age group',\n",
    "                   ylabel='Suicides per 100,000 population')\n",
    "    plt.savefig('./Output_Images/Suicides by age group.png')\n",
    "    plt.show()\n",
    "else:\n",
    "    try:\n",
    "        _create_unverified_https_context = ssl._create_unverified_context\n",
    "    except AttributeError:\n",
    "        pass\n",
    "    else:\n",
    "        ssl._create_default_https_context = _create_unverified_https_context\n",
    "    current_year = datetime.datetime.now().year\n",
    "    base = 'https://www.americashealthrankings.org/api/v1/downloads/'\n",
    "    start = Start  # input('Enter Start year (2011-20xx): ')\n",
    "    end = 2021  # input('Enter End year (2011-20xx): ')\n",
    "    frames = []\n",
    "    for year in range(int(start), int(end) + 1):\n",
    "        # Data before and after 2015 is on different end points hence adding a check\n",
    "        if year >= 2015:\n",
    "            # Getting report Id from page\n",
    "            res = requests.get(\n",
    "                f'https://www.americashealthrankings.org/explore/annual/measure/Suicide/state/ALL?edition-year={year}')\n",
    "            # Faced issues when scraping page for different years, figured out a way to get report ID\n",
    "            source_id = res.text.split(f'\"Name\":\"{year} Annual\",\"EditionId\":')[1][:4]\n",
    "            # Checking if edition ID is 2,3 or 4 digits\n",
    "            if source_id.isdecimal():\n",
    "                df = pd.read_csv(base + source_id)\n",
    "            elif source_id[:3].isdecimal():\n",
    "                df = pd.read_csv(base + source_id[:3])\n",
    "            else:\n",
    "                df = pd.read_csv(base + source_id[:2])\n",
    "        else:\n",
    "            df = pd.read_csv(base + f'report/1/{year}')\n",
    "        # Filtering only suicide data\n",
    "        df['Measure Name'] = df['Measure Name'].fillna('Blank')\n",
    "        df_2 = df[df['Measure Name'].str.contains('Suicide')]\n",
    "        # Adding to dataframes list\n",
    "        frames.append(df_2)\n",
    "    # Merging all yearly data into a single dataframe\n",
    "    df = pd.concat(frames)\n",
    "    # selecting necessary columns only\n",
    "    df = df[['Edition', 'Measure Name', 'Value', 'State Name']]\n",
    "\n",
    "    \"\"\"Date for each parameter is contained in a single CSV file as separate rows, below we will extract data for each parameter in a separate dataframe and plot it\"\"\"\n",
    "    # Extracting aggregated suicide data\n",
    "    df_total = df[df['Measure Name'] == 'Suicide']\n",
    "    # Grouping by year and ploting average suicide rate\n",
    "    total_data = df_total.groupby('Edition')['Value'].mean()\n",
    "    # We have data for up to 2021, let us now forecast the required years\n",
    "    loaded_model = joblib.load('./models/Suicides_per_100K.joblib')  # Loading the model\n",
    "    seasons = End - 2021  # Number of years to be forecasted\n",
    "    forecasted = loaded_model.forecast(seasons) #Forecasting the given years\n",
    "    indices = [*range(2022, 2022 + seasons)] #Indices used for forecasted data\n",
    "    forecasted_values = forecasted.set_axis(indices) #Using the right indices for forecasted\n",
    "    final_total_data = total_data.append(forecasted_values) #Combining the existing and forecasted values\n",
    "    final_total_data.plot(figsize=(10, 6), xlabel='Year', title='Suicides per 100,000 Population',\n",
    "                    ylabel='Suicides per 100,000 population')\n",
    "    plt.savefig('./Output_Images/Suicides per 100, 000 population.png')\n",
    "    plt.show()\n",
    "\n",
    "    # Extracting suicide data for ages 15-24\n",
    "    df_total = df[df['Measure Name'] == 'Suicide - Ages 15-24']\n",
    "    total_data = df_total.groupby('Edition')['Value'].mean()\n",
    "    # We have data for up to 2021, let us now forecast the required years\n",
    "    loaded_model = joblib.load('./models/Suicides_for_ages_15_24.joblib')  # Loading the model\n",
    "    seasons = End - 2021  # Number of years to be forecasted\n",
    "    forecasted = loaded_model.forecast(seasons)  # Forecasting the given years\n",
    "    indices = [*range(2022, 2022 + seasons)]  # Indices used for forecasted data\n",
    "    forecasted_values = forecasted.set_axis(indices)  # Using the right indices for forecasted\n",
    "    final_total_data = total_data.append(forecasted_values)  # Combining the existing and forecasted values\n",
    "    final_total_data.plot(figsize=(10, 6), xlabel='Year', title='Suicides Aged 15-24',\n",
    "                    ylabel='Suicides per 100,000 population')\n",
    "    plt.savefig('./Output_Images/Suicides aged 15 - 24.png')\n",
    "    plt.show()\n",
    "\n",
    "    # Extracting gender based Suicide data\n",
    "    df_gender = df[(df['Measure Name'] == 'Suicide - Female') | (df['Measure Name'] == 'Suicide - Male')]\n",
    "    gender_group = df_gender.groupby(['Edition', 'Measure Name'])['Value'].mean()\n",
    "    loaded_model_male = joblib.load('./models/Suicides_gender_male.joblib')  # Loading the model\n",
    "    loaded_model_female = joblib.load('./models/Suicides_gender_female.joblib')\n",
    "    forecasted_male = loaded_model_male.forecast(seasons)  # Forecasting the given years\n",
    "    forecasted_female = loaded_model_female.forecast(seasons)\n",
    "    indices = [*range(2022, 2022 + seasons)]  # Indices used for forecasted data\n",
    "    forecasted_values_male = forecasted_male.set_axis(indices)  # Using the right indices for forecasted\n",
    "    forecasted_values_female = forecasted_female.set_axis(indices)\n",
    "    dfx = gender_group.to_frame().reset_index().pivot(index='Edition', columns='Measure Name', values='Value')\n",
    "    #dfx.head()  # This is the dataframe for the already existing values\n",
    "    list_male = list(forecasted_values_male.values)\n",
    "    list_female = list(forecasted_values_female.values)\n",
    "    existing_list_male = list(dfx['Suicide - Male'].values)\n",
    "    existing_list_female = list(dfx['Suicide - Female'].values)\n",
    "    final_list_male = existing_list_male + list_male\n",
    "    final_list_female = existing_list_female + list_female\n",
    "    new_idx = [*range(Start, End + 1)]\n",
    "    new_df = pd.DataFrame()\n",
    "    new_df['Index'] = new_idx\n",
    "    new_df['Suicide - Male'] = final_list_male\n",
    "    new_df['Suicide - Female'] = final_list_female\n",
    "    # plotting graph\n",
    "    new_df.plot(x=\"Index\", y=[\"Suicide - Male\", \"Suicide - Female\"], kind=\"bar\",\n",
    "                xlabel='Year',\n",
    "                title='Gender based suicide rate')\n",
    "    plt.savefig('./Output_Images/Suicides by gender.png')\n",
    "    plt.show()\n",
    "\n",
    "\n",
    "\n",
    "\n",
    "\n",
    "    # Extracting racial suicide data\n",
    "    df_race = df[(df['Measure Name'] == 'Suicide - American Indian/Alaska Native') | (\n",
    "            df['Measure Name'] == 'Suicide - Asian/Pacific Islander') | (df['Measure Name'] == 'Suicide - Black') | (\n",
    "                         df['Measure Name'] == 'Suicide - Hispanic')]\n",
    "    race_group = df_race.groupby(['Edition', 'Measure Name'])['Value'].mean()\n",
    "\n",
    "    loaded_model_AmericanIndianAlaska_Native = joblib.load('./models/Suicides_race_American Indian_Alaska Native.joblib')  # Loading the model\n",
    "    loaded_model_AsianPacific_Islander = joblib.load('./models/Suicides_race_Asian_Pacific Islander.joblib')\n",
    "    loaded_model_Black = joblib.load('./models/Suicides_race_black.joblib')\n",
    "    loaded_model_Hispanic = joblib.load('./models/Suicides_race_Hispanic.joblib')\n",
    "\n",
    "    forecasted_AmericanIndianAlaska_Native = loaded_model_AmericanIndianAlaska_Native.forecast(seasons)  # Forecasting the given years\n",
    "    forecasted_AsianPacific_Islander = loaded_model_AsianPacific_Islander.forecast(seasons)\n",
    "    forecasted_Black = loaded_model_Black.forecast(seasons)  # Forecasting the given years\n",
    "    forecasted_Hispanic = loaded_model_Hispanic.forecast(seasons)\n",
    "\n",
    "    indices = [*range(2022, 2022 + seasons)]  # Indices used for forecasted data\n",
    "    forecasted_values_AmericanIndianAlaska_Native = forecasted_AmericanIndianAlaska_Native.set_axis(indices)  # Using the right indices for forecasted\n",
    "    forecasted_values_AsianPacific_Islander = forecasted_AsianPacific_Islander.set_axis(indices)\n",
    "    forecasted_values_Black = forecasted_Black.set_axis(indices)\n",
    "    forecasted_values_Hispanic = forecasted_Hispanic.set_axis(indices)\n",
    "\n",
    "    dfx = race_group.to_frame().reset_index().pivot(index='Edition', columns='Measure Name', values='Value')\n",
    "\n",
    "    # Making a list for the forecasted values\n",
    "    list_AmericanIndianAlaska_Native = list(forecasted_values_AmericanIndianAlaska_Native.values)\n",
    "    list_AsianPacific_Islander = list(forecasted_values_AsianPacific_Islander.values)\n",
    "    list_Black = list(forecasted_values_Black.values)\n",
    "    list_Hispanic = list(forecasted_values_Hispanic.values)\n",
    "\n",
    "    # Making a list for the already existing values\n",
    "    existing_list_AmericanIndianAlaska_Native = list(dfx['Suicide - American Indian/Alaska Native'].values)\n",
    "    existing_list_AsianPacific_Islander = list(dfx['Suicide - Asian/Pacific Islander'].values)\n",
    "    existing_list_Black = list(dfx['Suicide - Black'].values)\n",
    "    existing_list_Hispanic = list(dfx['Suicide - Hispanic'].values)\n",
    "\n",
    "    # Making a list containing both existing and predicted values\n",
    "    final_list_AmericanIndianAlaska_Native = existing_list_AmericanIndianAlaska_Native + list_AmericanIndianAlaska_Native\n",
    "    final_list_AsianPacific_Islander = existing_list_AsianPacific_Islander + list_AsianPacific_Islander\n",
    "    final_list_Black = existing_list_Black + list_Black\n",
    "    final_list_Hispanic = existing_list_Hispanic + list_Hispanic\n",
    "\n",
    "    new_idx = [*range(Start, End + 1)]\n",
    "\n",
    "    new_df = pd.DataFrame()\n",
    "    new_df['Index'] = new_idx\n",
    "    new_df['Suicide - American Indian/Alaska Native'] = final_list_AmericanIndianAlaska_Native\n",
    "    new_df['Suicide - Asian/Pacific Islander'] = final_list_AsianPacific_Islander\n",
    "    new_df['Suicide - Black'] = final_list_Black\n",
    "    new_df['Suicide - Hispanic'] = final_list_Hispanic\n",
    "\n",
    "    # plotting graph\n",
    "    new_df.plot(x=\"Index\", y=['Suicide - American Indian/Alaska Native', \"Suicide - Asian/Pacific Islander\",\n",
    "                              'Suicide - Black', 'Suicide - Hispanic'], kind=\"bar\",\n",
    "                xlabel='Year',\n",
    "                title='Gender based suicide rate')\n",
    "    plt.savefig('./Output_Images/Suicides by race.png')\n",
    "    plt.show()\n",
    "\n",
    "\n",
    "\n",
    "\n",
    "\n",
    "    # Extracting Age based suicide data\n",
    "    df_age = df[(df['Measure Name'] == 'Suicide - Ages 15-24') | (df['Measure Name'] == 'Suicide - Ages 25-34') | (\n",
    "            df['Measure Name'] == 'Suicide - Ages 35-44') | (df['Measure Name'] == 'Suicide - Ages 45-54') | (\n",
    "                        df['Measure Name'] == 'Suicide - Ages 55-64') | (\n",
    "                        df['Measure Name'] == 'Suicide - Ages 65-74') | (\n",
    "                        df['Measure Name'] == 'Suicide - Ages 75-84') | (df['Measure Name'] == 'Suicide - Ages 85+')]\n",
    "    age_group = df_age.groupby(['Measure Name'])['Value'].mean()\n",
    "\n",
    "    # Obtaining the mean values for existing data\n",
    "    Existing_15_24 = age_group.iloc[0]\n",
    "    Existing_25_34 = age_group.iloc[1]\n",
    "    Existing_35_44 = age_group.iloc[2]\n",
    "    Existing_45_54 = age_group.iloc[3]\n",
    "    Existing_55_64 = age_group.iloc[4]\n",
    "    Existing_65_64 = age_group.iloc[5]\n",
    "    Existing_75_84 = age_group.iloc[6]\n",
    "    Existing_85_plus = age_group.iloc[7]\n",
    "\n",
    "    # Loading models for predicting each age set\n",
    "    model_15_24 = joblib.load('./models/Suicides_age_groupSuicide - Ages 15-24.joblib')\n",
    "    model_25_34 = joblib.load('./models/Suicides_age_groupSuicide - Ages 25-34.joblib')\n",
    "    model_35_44 = joblib.load('./models/Suicides_age_groupSuicide - Ages 35-44.joblib')\n",
    "    model_45_54 = joblib.load('./models/Suicides_age_groupSuicide - Ages 45-54.joblib')\n",
    "    model_55_64 = joblib.load('./models/Suicides_age_groupSuicide - Ages 55-64.joblib')\n",
    "    model_65_74 = joblib.load('./models/Suicides_age_groupSuicide - Ages 65-74.joblib')\n",
    "    model_75_84 = joblib.load('./models/Suicides_age_groupSuicide - Ages 75-84.joblib')\n",
    "    model_85_plus = joblib.load('./models/Suicides_age_groupSuicide - Ages 85+.joblib')\n",
    "\n",
    "    # Getting the predicted values for each age set\n",
    "    predicted_15_24 = model_15_24.forecast(seasons)\n",
    "    predicted_25_34 = model_25_34.forecast(seasons)\n",
    "    predicted_35_44 = model_35_44.forecast(seasons)\n",
    "    predicted_45_54 = model_45_54.forecast(seasons)\n",
    "    predicted_55_64 = model_55_64.forecast(seasons)\n",
    "    predicted_65_64 = model_65_74.forecast(seasons)\n",
    "    predicted_75_84 = model_75_84.forecast(seasons)\n",
    "    predicted_85_plus = model_85_plus.forecast(seasons)\n",
    "\n",
    "    # Getting the average between initial and predicted values\n",
    "    Final_15_24 = (predicted_15_24.mean() + Existing_15_24) / 2\n",
    "    Final_25_34 = (predicted_25_34.mean() + Existing_25_34) / 2\n",
    "    Final_35_44 = (predicted_35_44.mean() + Existing_35_44) / 2\n",
    "    Final_45_54 = (predicted_45_54.mean() + Existing_45_54) / 2\n",
    "    Final_55_64 = (predicted_55_64.mean() + Existing_55_64) / 2\n",
    "    Final_65_64 = (predicted_65_64.mean() + Existing_65_64) / 2\n",
    "    Final_75_84 = (predicted_75_84.mean() + Existing_75_84) / 2\n",
    "    Final_85_plus = (predicted_85_plus.mean() + Existing_85_plus) / 2\n",
    "\n",
    "    # Plotting\n",
    "    values = [Final_15_24, Final_25_34, Final_35_44, Final_45_54, Final_55_64, Final_65_64, Final_75_84, Final_85_plus]\n",
    "    labels = ['Suicide - Ages 15-24', 'Suicide - Ages 25-34', 'Suicide - Ages 35-44', 'Suicide - Ages 45-54',\n",
    "              'Suicide - Ages 55-64', 'Suicide - Ages 65-74', 'Suicide - Ages 75-84', 'Suicide - Ages 85+']\n",
    "    fig = plt.figure(figsize=(10, 5))\n",
    "    y_pos = range(len(labels))\n",
    "    plt.bar(y_pos, values)\n",
    "    plt.xticks(y_pos, labels, rotation=90)\n",
    "    plt.xlabel(\"Years\")\n",
    "    plt.ylabel(\"Suicides per 100,000 population\")\n",
    "    plt.title(\"Suicides by age group\")\n",
    "    plt.savefig('./Output_Images/Suicides by age group.png')\n",
    "    plt.show()\n",
    "\n",
    "\n",
    "\n",
    "    age_group.plot(kind='bar', figsize=(8, 5), xlabel='Year', title='Suicides by age group',\n",
    "                   ylabel='Suicides per 100,000 population')\n",
    "    plt.show()\n"
   ]
  },
  {
   "cell_type": "code",
   "execution_count": null,
   "metadata": {},
   "outputs": [],
   "source": []
  },
  {
   "cell_type": "code",
   "execution_count": null,
   "metadata": {},
   "outputs": [],
   "source": []
  }
 ],
 "metadata": {
  "kernelspec": {
   "display_name": "Python 3 (ipykernel)",
   "language": "python",
   "name": "python3"
  },
  "language_info": {
   "codemirror_mode": {
    "name": "ipython",
    "version": 3
   },
   "file_extension": ".py",
   "mimetype": "text/x-python",
   "name": "python",
   "nbconvert_exporter": "python",
   "pygments_lexer": "ipython3",
   "version": "3.8.12"
  }
 },
 "nbformat": 4,
 "nbformat_minor": 4
}
